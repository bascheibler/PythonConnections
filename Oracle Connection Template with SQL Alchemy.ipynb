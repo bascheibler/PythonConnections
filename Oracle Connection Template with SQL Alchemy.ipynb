{
 "cells": [
  {
   "cell_type": "markdown",
   "metadata": {},
   "source": [
    "# Oracle Connection Template with SQL Alchemy\n",
    "* install module cx_Oracle\n",
    "    * OBS: both Anaconda versions (Oracle Client and cx_Oracle) must be **all** x32 or x64\n",
    "* Input database username and password"
   ]
  },
  {
   "cell_type": "code",
   "execution_count": 1,
   "metadata": {
    "collapsed": false,
    "scrolled": true
   },
   "outputs": [
    {
     "name": "stdout",
     "output_type": "stream",
     "text": [
      "Usuário: ········\n",
      "Senha: ········\n",
      "Conectado.\n"
     ]
    }
   ],
   "source": [
    "from getpass import getpass\n",
    "from os import environ\n",
    "import sqlalchemy as sql\n",
    "from sqlalchemy.pool import QueuePool\n",
    "import pandas as pd\n",
    "\n",
    "# Adjust encoding to UTF8\n",
    "environ[\"NLS_LANG\"] = \".AL32UTF8\"\n",
    "\n",
    "# Get username and password hiding inputs\n",
    "usr = getpass(prompt='Username: ')\n",
    "psw = getpass(prompt='Password: ')\n",
    "\n",
    "# Create url to connect to Oracle using cx_oracle. Real names for host address and service name were replaced by '<>'.\n",
    "url= 'oracle+cx_oracle://' + usr + ':' + psw +'@<host_address>/?service_name=<service_name>'\n",
    "\n",
    "# Create engine to connect to url\n",
    "engine = sql.create_engine(url, poolclass=QueuePool)\n",
    "\n",
    "# Connect\n",
    "conn = engine.connect()\n",
    "print('Connected.')"
   ]
  },
  {
   "cell_type": "markdown",
   "metadata": {},
   "source": [
    "**Download dataframes running queries to Oracle**"
   ]
  },
  {
   "cell_type": "code",
   "execution_count": null,
   "metadata": {
    "collapsed": false
   },
   "outputs": [],
   "source": [
    "df1 = pd.read_sql_query(\"SELECT SYSDATE FROM DUAL\", conn)\n",
    "df2 = pd.read_sql_query(\"SELECT * FROM OWNER.TABLE_NAME\", conn)"
   ]
  },
  {
   "cell_type": "code",
   "execution_count": null,
   "metadata": {
    "collapsed": true
   },
   "outputs": [],
   "source": [
    "# You may open a SQL file to read the query\n",
    "SQL = open('script.sql', 'r')\n",
    "\n",
    "# If the file has parameters (e.g. start and end date), input the dates using format function:\n",
    "df = pd.read_sql_query(SQL.read().format(Start='01/03/2017',End='31/03/2017'),conn)"
   ]
  },
  {
   "cell_type": "markdown",
   "metadata": {},
   "source": [
    "**Executing DDL or DML statements directly to Oracle**"
   ]
  },
  {
   "cell_type": "code",
   "execution_count": null,
   "metadata": {
    "collapsed": true
   },
   "outputs": [],
   "source": [
    "conn.execute(text(\"CREATE TABLE TMP_TABLE AS SELECT SYSDATE FROM DUAL\"))"
   ]
  },
  {
   "cell_type": "code",
   "execution_count": null,
   "metadata": {
    "collapsed": true
   },
   "outputs": [],
   "source": [
    "# It is possible to break into multiple lines using \\ or \"\"\"\n",
    "conn.execute(\"BEGIN \\\n",
    "EXECUTE IMMEDIATE 'DROP TABLE TMP_TABLE'; \\\n",
    "EXCEPTION \\\n",
    "WHEN OTHERS THEN \\\n",
    "IF SQLCODE != -942 THEN \\\n",
    "RAISE; \\\n",
    "END IF; \\\n",
    "END;\")"
   ]
  },
  {
   "cell_type": "markdown",
   "metadata": {},
   "source": [
    "**Append using pandas**"
   ]
  },
  {
   "cell_type": "code",
   "execution_count": null,
   "metadata": {
    "collapsed": true
   },
   "outputs": [],
   "source": [
    "# If the columns format aren't the same, use the dtype argument as below:\n",
    "df.to_sql(name='tmp_table',if_exists='append',index=False,con=conn,dtype={'char_col':types.VARCHAR(length=255),\n",
    "                                                                           'num_col':types.NUMERIC()})"
   ]
  },
  {
   "cell_type": "markdown",
   "metadata": {},
   "source": [
    "**End session**"
   ]
  },
  {
   "cell_type": "code",
   "execution_count": null,
   "metadata": {
    "collapsed": true
   },
   "outputs": [],
   "source": [
    "conn.close()"
   ]
  },
  {
   "cell_type": "markdown",
   "metadata": {},
   "source": [
    "**Close conection**"
   ]
  },
  {
   "cell_type": "code",
   "execution_count": null,
   "metadata": {
    "collapsed": true
   },
   "outputs": [],
   "source": [
    "engine.dispose()"
   ]
  }
 ],
 "metadata": {
  "kernelspec": {
   "display_name": "Python 3",
   "language": "python",
   "name": "python3"
  },
  "language_info": {
   "codemirror_mode": {
    "name": "ipython",
    "version": 3
   },
   "file_extension": ".py",
   "mimetype": "text/x-python",
   "name": "python",
   "nbconvert_exporter": "python",
   "pygments_lexer": "ipython3",
   "version": "3.6.0"
  }
 },
 "nbformat": 4,
 "nbformat_minor": 2
}
