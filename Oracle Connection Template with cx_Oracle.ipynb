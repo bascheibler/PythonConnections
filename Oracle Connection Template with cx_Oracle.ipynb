{
 "cells": [
  {
   "cell_type": "markdown",
   "metadata": {},
   "source": [
    "# Oracle Connection Template with cx_Oracle\n",
    "* install module cx_Oracle\n",
    "    * OBS: both Anaconda versions (Oracle Client and cx_Oracle) must be **all** x32 or x64\n",
    "* Input database username and password"
   ]
  },
  {
   "cell_type": "code",
   "execution_count": 1,
   "metadata": {
    "collapsed": false
   },
   "outputs": [],
   "source": [
    "import cx_Oracle\n",
    "import pandas as pd\n",
    "import os\n",
    "\n",
    "# Adjust encoding to UTF8\n",
    "os.environ[\"NLS_LANG\"] = \".AL32UTF8\""
   ]
  },
  {
   "cell_type": "code",
   "execution_count": 2,
   "metadata": {
    "collapsed": false
   },
   "outputs": [
    {
     "name": "stdout",
     "output_type": "stream",
     "text": [
      "Connected to Oracle: 12.1.0.2.0\n"
     ]
    }
   ],
   "source": [
    "# Make DSN address. Real values for host address, port and service name were replaced by '<>'.\n",
    "dsn = cx_Oracle.makedsn('<host_address>', '<port>', service_name='<service_name>')\n",
    "\n",
    "# Connect to DSN\n",
    "orcl = cx_Oracle.connect(user='<username>', password='<password>', dsn=dsn)\n",
    "print(\"Connected to Oracle: \" + orcl.version)"
   ]
  },
  {
   "cell_type": "code",
   "execution_count": 3,
   "metadata": {
    "collapsed": false
   },
   "outputs": [
    {
     "name": "stdout",
     "output_type": "stream",
     "text": [
      "('AMERICAN_AMERICA.WE8MSWIN1252',)\n"
     ]
    }
   ],
   "source": [
    "# Create query as a string\n",
    "sql = \"SELECT USERENV ('language') FROM DUAL\"\n",
    "\n",
    "# Create cursor\n",
    "curs = orcl.cursor()\n",
    "\n",
    "# Execute query\n",
    "curs.execute(sql)\n",
    "\n",
    "# Print cursor\n",
    "for row in curs:\n",
    "    print(row)"
   ]
  },
  {
   "cell_type": "markdown",
   "metadata": {},
   "source": [
    "**Download data frame running a query:**"
   ]
  },
  {
   "cell_type": "code",
   "execution_count": 1,
   "metadata": {
    "collapsed": false
   },
   "outputs": [],
   "source": [
    "sql = \"select * from OWNER.TABLE_NAME\"\n",
    "curs = orcl.cursor()\n",
    "curs.execute(sql)\n",
    "\n",
    "df = pd.DataFrame(curs.fetchall())"
   ]
  }
 ],
 "metadata": {
  "kernelspec": {
   "display_name": "Python 3",
   "language": "python",
   "name": "python3"
  },
  "language_info": {
   "codemirror_mode": {
    "name": "ipython",
    "version": 3
   },
   "file_extension": ".py",
   "mimetype": "text/x-python",
   "name": "python",
   "nbconvert_exporter": "python",
   "pygments_lexer": "ipython3",
   "version": "3.6.0"
  }
 },
 "nbformat": 4,
 "nbformat_minor": 2
}
