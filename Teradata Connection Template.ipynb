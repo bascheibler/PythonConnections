{
 "cells": [
  {
   "cell_type": "markdown",
   "metadata": {},
   "source": [
    "# Teradata Connection Template\n",
    "* Install teradata e sqlalchemy-teradata modules\n",
    "* Input username and password"
   ]
  },
  {
   "cell_type": "code",
   "execution_count": 1,
   "metadata": {
    "collapsed": false
   },
   "outputs": [],
   "source": [
    "from getpass import getpass\n",
    "from os import environ\n",
    "import sqlalchemy as sql\n",
    "import pandas as pd\n",
    "\n",
    "# Adjust encoding to UTF8\n",
    "environ[\"NLS_LANG\"] = \".AL32UTF8\""
   ]
  },
  {
   "cell_type": "code",
   "execution_count": 2,
   "metadata": {
    "collapsed": false,
    "hide_input": true
   },
   "outputs": [
    {
     "name": "stdout",
     "output_type": "stream",
     "text": [
      "Usuário: ········\n",
      "Senha: ········\n"
     ]
    }
   ],
   "source": [
    "# Get username and password hiding inputs\n",
    "usr = getpass(prompt='Usuário: ')\n",
    "psw = getpass(prompt='Senha: ')"
   ]
  },
  {
   "cell_type": "code",
   "execution_count": 4,
   "metadata": {
    "collapsed": false
   },
   "outputs": [
    {
     "name": "stdout",
     "output_type": "stream",
     "text": [
      "Conectado.\n"
     ]
    }
   ],
   "source": [
    "# Create url to connect to Teradata. Real names for host address and service name were replaced by '<>'.\n",
    "url='teradata://' + usr + ':' + psw + '@<host_address>:22/<database_name>?dsn=<host_name>&driver=teradata'\n",
    "\n",
    "# Create engine to connect to url\n",
    "engine = sql.create_engine(url)\n",
    "\n",
    "# Connect\n",
    "conn = engine.connect()\n",
    "print('Conectado.')"
   ]
  },
  {
   "cell_type": "markdown",
   "metadata": {},
   "source": [
    "**Execute DDL or DML statements directly to Teradata**"
   ]
  },
  {
   "cell_type": "code",
   "execution_count": 11,
   "metadata": {
    "collapsed": false
   },
   "outputs": [
    {
     "data": {
      "text/plain": [
       "<sqlalchemy.engine.result.ResultProxy at 0x7f857f2c50>"
      ]
     },
     "execution_count": 11,
     "metadata": {},
     "output_type": "execute_result"
    }
   ],
   "source": [
    "conn.execute('CREATE TABLE BI_INDICADORES.TESTE (A NUMBER(22))')"
   ]
  },
  {
   "cell_type": "code",
   "execution_count": 12,
   "metadata": {
    "collapsed": false
   },
   "outputs": [
    {
     "data": {
      "text/plain": [
       "<sqlalchemy.engine.result.ResultProxy at 0x7f8543a828>"
      ]
     },
     "execution_count": 12,
     "metadata": {},
     "output_type": "execute_result"
    }
   ],
   "source": [
    "conn.execute('DROP TABLE BI_INDICADORES.TESTE')"
   ]
  },
  {
   "cell_type": "markdown",
   "metadata": {},
   "source": [
    "**Download dataframes running queries to Teradata**"
   ]
  },
  {
   "cell_type": "code",
   "execution_count": 14,
   "metadata": {
    "collapsed": false
   },
   "outputs": [],
   "source": [
    "df = pd.read_sql_query(\"\"\"\n",
    "SELECT NUM_ANO_MES,sum(1) ASSOCIADOS,round(avg(ISA),2) ISA,round(avg(MC_ASSOC),0) MC \n",
    "FROM BI_INDICADORES.FTO_BASE_RELACIONAMENTO \n",
    "GROUP BY NUM_ANO_MES ORDER BY NUM_ANO_MES ASC\n",
    "\"\"\",conn)"
   ]
  },
  {
   "cell_type": "markdown",
   "metadata": {},
   "source": [
    "**Close connection**"
   ]
  },
  {
   "cell_type": "code",
   "execution_count": 16,
   "metadata": {
    "collapsed": false
   },
   "outputs": [
    {
     "name": "stdout",
     "output_type": "stream",
     "text": [
      "Desconectado.\n"
     ]
    }
   ],
   "source": [
    "conn.close()\n",
    "print('Desconectado.')"
   ]
  }
 ],
 "metadata": {
  "kernelspec": {
   "display_name": "Python 3",
   "language": "python",
   "name": "python3"
  },
  "language_info": {
   "codemirror_mode": {
    "name": "ipython",
    "version": 3
   },
   "file_extension": ".py",
   "mimetype": "text/x-python",
   "name": "python",
   "nbconvert_exporter": "python",
   "pygments_lexer": "ipython3",
   "version": "3.6.0"
  }
 },
 "nbformat": 4,
 "nbformat_minor": 2
}
